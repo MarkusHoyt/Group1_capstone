{
 "cells": [
  {
   "cell_type": "code",
   "execution_count": 1,
   "id": "0a0f150f-399c-41dd-8a1e-6369aba25b74",
   "metadata": {},
   "outputs": [],
   "source": [
    "# Loading Libraries\n",
    "\n",
    "import pandas as pd\n",
    "import numpy as np\n",
    "import matplotlib.pyplot as plt\n",
    "import warnings\n",
    "\n",
    "warnings.filterwarnings(\"ignore\")\n",
    "\n",
    "from sklearn.model_selection import train_test_split\n",
    "from sklearn.preprocessing import StandardScaler, LabelEncoder\n",
    "from sklearn.discriminant_analysis import LinearDiscriminantAnalysis\n",
    "from sklearn.ensemble import RandomForestClassifier\n",
    "from sklearn.metrics import accuracy_score, confusion_matrix\n",
    "from sklearn.decomposition import PCA\n",
    "from sklearn.model_selection import GridSearchCV\n",
    "\n",
    "\n",
    "# See max columns\n",
    "pd.set_option('display.max_columns', None)"
   ]
  },
  {
   "cell_type": "code",
   "execution_count": 2,
   "id": "9f698472-e676-4797-a179-7d4d6f020891",
   "metadata": {},
   "outputs": [
    {
     "data": {
      "text/plain": [
       "Index(['SRVY_YR', 'URBRRL', 'REGION', 'AGEP_A', 'SEX_A', 'HISP_A',\n",
       "       'RACEALLP_A', 'MLTFAMFLG_A', 'PHSTAT_A', 'HYPEV_A', 'CHLEV_A',\n",
       "       'ANGEV_A', 'MIEV_A', 'STREV_A', 'ASEV_A', 'NUMCAN_A', 'HEIGHTTC_A',\n",
       "       'WEIGHTLBTC_A', 'BMICAT_A', 'DISAB3_A', 'NOTCOV_A', 'PAYWORRY_A',\n",
       "       'URGNT12MTC_A', 'EMERG12MTC_A', 'ANXLEVEL_A', 'DEPLEVEL_A',\n",
       "       'SMKCIGST_A', 'SMKECIGST_A', 'LEGMSTAT_A', 'PARSTAT_A', 'CITZNSTP_A',\n",
       "       'SCHCURENR_A', 'POVRATTC_A', 'FSNAP12M_A', 'FDSCAT4_A', 'HOUTENURE_A',\n",
       "       'CHDEV_A', 'DIA_STATUS'],\n",
       "      dtype='object')"
      ]
     },
     "execution_count": 2,
     "metadata": {},
     "output_type": "execute_result"
    }
   ],
   "source": [
    "#loading data set\n",
    "adult = pd.read_csv(\"Clean_Data.csv\")\n",
    "\n",
    "#getting columns names\n",
    "adult.columns"
   ]
  },
  {
   "cell_type": "code",
   "execution_count": 3,
   "id": "678919cb-080d-4269-825a-ad11c1c3c304",
   "metadata": {},
   "outputs": [],
   "source": [
    "#Droping columns\n",
    "adult = adult.drop(columns = ['CHDEV_A','HOUTENURE_A','SCHCURENR_A','CITZNSTP_A','PARSTAT_A','LEGMSTAT_A','MLTFAMFLG_A',\n",
    "                                  'FSNAP12M_A','HEIGHTTC_A','WEIGHTLBTC_A','NOTCOV_A','ANGEV_A','STREV_A','MIEV_A','HISP_A',\n",
    "                                  'SMKCIGST_A','ASEV_A','FDSCAT4_A','DISAB3_A','SRVY_YR'])"
   ]
  },
  {
   "cell_type": "code",
   "execution_count": 4,
   "id": "35339528-53dd-4ca9-b6c3-2439c27f68fd",
   "metadata": {},
   "outputs": [
    {
     "data": {
      "text/html": [
       "<div>\n",
       "<style scoped>\n",
       "    .dataframe tbody tr th:only-of-type {\n",
       "        vertical-align: middle;\n",
       "    }\n",
       "\n",
       "    .dataframe tbody tr th {\n",
       "        vertical-align: top;\n",
       "    }\n",
       "\n",
       "    .dataframe thead th {\n",
       "        text-align: right;\n",
       "    }\n",
       "</style>\n",
       "<table border=\"1\" class=\"dataframe\">\n",
       "  <thead>\n",
       "    <tr style=\"text-align: right;\">\n",
       "      <th></th>\n",
       "      <th>URBRRL</th>\n",
       "      <th>REGION</th>\n",
       "      <th>AGEP_A</th>\n",
       "      <th>SEX_A</th>\n",
       "      <th>RACEALLP_A</th>\n",
       "      <th>PHSTAT_A</th>\n",
       "      <th>HYPEV_A</th>\n",
       "      <th>CHLEV_A</th>\n",
       "      <th>NUMCAN_A</th>\n",
       "      <th>BMICAT_A</th>\n",
       "      <th>PAYWORRY_A</th>\n",
       "      <th>URGNT12MTC_A</th>\n",
       "      <th>EMERG12MTC_A</th>\n",
       "      <th>ANXLEVEL_A</th>\n",
       "      <th>DEPLEVEL_A</th>\n",
       "      <th>SMKECIGST_A</th>\n",
       "      <th>POVRATTC_A</th>\n",
       "      <th>DIA_STATUS</th>\n",
       "    </tr>\n",
       "  </thead>\n",
       "  <tbody>\n",
       "    <tr>\n",
       "      <th>0</th>\n",
       "      <td>2</td>\n",
       "      <td>3</td>\n",
       "      <td>85</td>\n",
       "      <td>1</td>\n",
       "      <td>1</td>\n",
       "      <td>2</td>\n",
       "      <td>1</td>\n",
       "      <td>2</td>\n",
       "      <td>0</td>\n",
       "      <td>2</td>\n",
       "      <td>3</td>\n",
       "      <td>0</td>\n",
       "      <td>0</td>\n",
       "      <td>2.0</td>\n",
       "      <td>0.0</td>\n",
       "      <td>3</td>\n",
       "      <td>1.92</td>\n",
       "      <td>0.0</td>\n",
       "    </tr>\n",
       "    <tr>\n",
       "      <th>1</th>\n",
       "      <td>4</td>\n",
       "      <td>3</td>\n",
       "      <td>64</td>\n",
       "      <td>1</td>\n",
       "      <td>1</td>\n",
       "      <td>3</td>\n",
       "      <td>1</td>\n",
       "      <td>1</td>\n",
       "      <td>1</td>\n",
       "      <td>4</td>\n",
       "      <td>3</td>\n",
       "      <td>0</td>\n",
       "      <td>0</td>\n",
       "      <td>1.0</td>\n",
       "      <td>0.0</td>\n",
       "      <td>3</td>\n",
       "      <td>10.30</td>\n",
       "      <td>0.0</td>\n",
       "    </tr>\n",
       "    <tr>\n",
       "      <th>2</th>\n",
       "      <td>4</td>\n",
       "      <td>3</td>\n",
       "      <td>37</td>\n",
       "      <td>2</td>\n",
       "      <td>1</td>\n",
       "      <td>3</td>\n",
       "      <td>2</td>\n",
       "      <td>2</td>\n",
       "      <td>0</td>\n",
       "      <td>4</td>\n",
       "      <td>3</td>\n",
       "      <td>1</td>\n",
       "      <td>1</td>\n",
       "      <td>3.0</td>\n",
       "      <td>1.0</td>\n",
       "      <td>3</td>\n",
       "      <td>9.36</td>\n",
       "      <td>3.0</td>\n",
       "    </tr>\n",
       "    <tr>\n",
       "      <th>3</th>\n",
       "      <td>4</td>\n",
       "      <td>3</td>\n",
       "      <td>72</td>\n",
       "      <td>2</td>\n",
       "      <td>1</td>\n",
       "      <td>2</td>\n",
       "      <td>1</td>\n",
       "      <td>2</td>\n",
       "      <td>0</td>\n",
       "      <td>4</td>\n",
       "      <td>3</td>\n",
       "      <td>0</td>\n",
       "      <td>0</td>\n",
       "      <td>0.0</td>\n",
       "      <td>0.0</td>\n",
       "      <td>3</td>\n",
       "      <td>3.66</td>\n",
       "      <td>0.0</td>\n",
       "    </tr>\n",
       "    <tr>\n",
       "      <th>4</th>\n",
       "      <td>1</td>\n",
       "      <td>3</td>\n",
       "      <td>84</td>\n",
       "      <td>2</td>\n",
       "      <td>2</td>\n",
       "      <td>2</td>\n",
       "      <td>1</td>\n",
       "      <td>2</td>\n",
       "      <td>0</td>\n",
       "      <td>3</td>\n",
       "      <td>2</td>\n",
       "      <td>0</td>\n",
       "      <td>0</td>\n",
       "      <td>1.0</td>\n",
       "      <td>0.0</td>\n",
       "      <td>3</td>\n",
       "      <td>0.69</td>\n",
       "      <td>0.0</td>\n",
       "    </tr>\n",
       "  </tbody>\n",
       "</table>\n",
       "</div>"
      ],
      "text/plain": [
       "   URBRRL  REGION  AGEP_A  SEX_A  RACEALLP_A  PHSTAT_A  HYPEV_A  CHLEV_A  \\\n",
       "0       2       3      85      1           1         2        1        2   \n",
       "1       4       3      64      1           1         3        1        1   \n",
       "2       4       3      37      2           1         3        2        2   \n",
       "3       4       3      72      2           1         2        1        2   \n",
       "4       1       3      84      2           2         2        1        2   \n",
       "\n",
       "   NUMCAN_A  BMICAT_A  PAYWORRY_A  URGNT12MTC_A  EMERG12MTC_A  ANXLEVEL_A  \\\n",
       "0         0         2           3             0             0         2.0   \n",
       "1         1         4           3             0             0         1.0   \n",
       "2         0         4           3             1             1         3.0   \n",
       "3         0         4           3             0             0         0.0   \n",
       "4         0         3           2             0             0         1.0   \n",
       "\n",
       "   DEPLEVEL_A  SMKECIGST_A  POVRATTC_A  DIA_STATUS  \n",
       "0         0.0            3        1.92         0.0  \n",
       "1         0.0            3       10.30         0.0  \n",
       "2         1.0            3        9.36         3.0  \n",
       "3         0.0            3        3.66         0.0  \n",
       "4         0.0            3        0.69         0.0  "
      ]
     },
     "execution_count": 4,
     "metadata": {},
     "output_type": "execute_result"
    }
   ],
   "source": [
    "adult.head()"
   ]
  },
  {
   "cell_type": "code",
   "execution_count": 5,
   "id": "a66dd7b1-a76f-4673-b709-eb6a0d044b32",
   "metadata": {},
   "outputs": [],
   "source": [
    "#Categorizing age\n",
    "def categorize_age(AGEP_A):\n",
    "    \n",
    "    if 18 <= AGEP_A <= 25:\n",
    "        return 'Young Adult'\n",
    "    elif 26 <= AGEP_A <= 44:\n",
    "        return 'Middle Adult'\n",
    "    elif 45 <= AGEP_A <= 65:\n",
    "        return 'Late Adult'\n",
    "    else:\n",
    "        return 'Retired Adult'\n",
    "\n",
    "#Applying function to dataframe\n",
    "adult['Age_cat'] = adult['AGEP_A'].apply(categorize_age)"
   ]
  },
  {
   "cell_type": "code",
   "execution_count": 6,
   "id": "2f7cf1a6-7a57-47fe-9e80-b778ca368eac",
   "metadata": {},
   "outputs": [],
   "source": [
    "# Dropping age column\n",
    "adult = adult.drop(columns = ['AGEP_A'])"
   ]
  },
  {
   "cell_type": "code",
   "execution_count": 7,
   "id": "c52fb762-ab3f-42ad-a81e-e2f90f9fa4b4",
   "metadata": {},
   "outputs": [
    {
     "data": {
      "text/plain": [
       "DIA_STATUS\n",
       "0.0    94011\n",
       "1.0     3255\n",
       "Name: DIA_STATUS, dtype: int64"
      ]
     },
     "execution_count": 7,
     "metadata": {},
     "output_type": "execute_result"
    }
   ],
   "source": [
    "#dropping all type 1 Diabetes\n",
    "adult = adult.drop(adult[adult['DIA_STATUS'] == 2].index)\n",
    "\n",
    "#having only non-diabetes with diabetes type 2\n",
    "adult['DIA_STATUS'] = adult['DIA_STATUS'].replace(1, 0)\n",
    "adult['DIA_STATUS'] = adult['DIA_STATUS'].replace(3, 1)\n",
    "\n",
    "# Looking at diabetes number\n",
    "adult.groupby(['DIA_STATUS'])['DIA_STATUS'].count()"
   ]
  },
  {
   "cell_type": "code",
   "execution_count": 8,
   "id": "50de27af-10ed-4f10-ae68-74b8562af6c6",
   "metadata": {},
   "outputs": [
    {
     "name": "stdout",
     "output_type": "stream",
     "text": [
      "Unique values in column 'URBRRL': [2 4 1 3]\n",
      "Unique values in column 'REGION': [3 4 1 2]\n",
      "Unique values in column 'SEX_A': [1 2]\n",
      "Unique values in column 'RACEALLP_A': [1 2 6 3 4 5]\n",
      "Unique values in column 'PHSTAT_A': [2 3 1 4 5]\n",
      "Unique values in column 'HYPEV_A': [1 2]\n",
      "Unique values in column 'CHLEV_A': [2 1]\n",
      "Unique values in column 'NUMCAN_A': [0 1 2 3 4]\n",
      "Unique values in column 'BMICAT_A': [2 4 3 1]\n",
      "Unique values in column 'PAYWORRY_A': [3 2 1]\n",
      "Unique values in column 'URGNT12MTC_A': [0 1 2 4 3 5]\n",
      "Unique values in column 'EMERG12MTC_A': [0 1 2 4 3]\n",
      "Unique values in column 'ANXLEVEL_A': [2. 1. 3. 0.]\n",
      "Unique values in column 'DEPLEVEL_A': [0. 1. 2. 3.]\n",
      "Unique values in column 'SMKECIGST_A': [3 2 1 4]\n",
      "Unique values in column 'POVRATTC_A': [ 1.92 10.3   9.36 ...  8.63  8.98  9.67]\n",
      "Unique values in column 'DIA_STATUS': [0. 1.]\n",
      "Unique values in column 'Age_cat': ['Retired Adult' 'Late Adult' 'Middle Adult' 'Young Adult']\n"
     ]
    }
   ],
   "source": [
    "# Checking for unique variables for each column\n",
    "for column in adult.columns:\n",
    "    unique_values = adult[column].unique()\n",
    "    print(f\"Unique values in column '{column}': {unique_values}\")"
   ]
  },
  {
   "cell_type": "code",
   "execution_count": 9,
   "id": "fbfa62c5-e74c-49e1-a265-8811bb857501",
   "metadata": {},
   "outputs": [],
   "source": [
    "# Getting Dummy Variables\n",
    "adult_df = pd.get_dummies(adult, columns = ['URBRRL', 'REGION', 'SEX_A', 'RACEALLP_A', 'PHSTAT_A', 'HYPEV_A',\n",
    "                                            'CHLEV_A', 'NUMCAN_A', 'BMICAT_A', 'PAYWORRY_A', 'URGNT12MTC_A',\n",
    "                                            'EMERG12MTC_A', 'ANXLEVEL_A', 'DEPLEVEL_A', 'SMKECIGST_A',\n",
    "                                            'Age_cat'])\n"
   ]
  },
  {
   "cell_type": "code",
   "execution_count": 10,
   "id": "08dc8a04-bee1-44ff-8f65-d4b8292cf7d3",
   "metadata": {},
   "outputs": [],
   "source": [
    "# Split data\n",
    "X = adult_df.drop('DIA_STATUS', axis = 1)\n",
    "y = adult_df['DIA_STATUS']"
   ]
  },
  {
   "cell_type": "code",
   "execution_count": 11,
   "id": "3a536f54-b21a-4a88-9d35-a110804cc991",
   "metadata": {},
   "outputs": [],
   "source": [
    "#Scaling and creating the split for the data\n",
    "sc = StandardScaler()\n",
    "X = sc.fit_transform(X)\n",
    "le = LabelEncoder()\n",
    "y = le.fit_transform(y)\n",
    "X_train, X_test, y_train, y_test = train_test_split(X, y, test_size=0.2, stratify=y, random_state=42)\n"
   ]
  },
  {
   "cell_type": "code",
   "execution_count": 12,
   "id": "e1fabc22-5ea4-46f2-bdcd-1ff6965f570e",
   "metadata": {},
   "outputs": [
    {
     "data": {
      "image/png": "[encoded data removed]",
      "text/plain": [
       "<Figure size 1200x600 with 1 Axes>"
      ]
     },
     "metadata": {},
     "output_type": "display_data"
    },
    {
     "name": "stdout",
     "output_type": "stream",
     "text": [
      "[0.06025302 0.05068795 0.03689894 0.03485687 0.03293352 0.02967763\n",
      " 0.02877854 0.02633629 0.02537377 0.02458248 0.02406542 0.02337535\n",
      " 0.02313942 0.02283568 0.02230978 0.02171686 0.0210349  0.02081726\n",
      " 0.0201992  0.01938817 0.01880208 0.01858438 0.01782114 0.01749662\n",
      " 0.01721729 0.01717179 0.01651074 0.01645021 0.01627553 0.01618882\n",
      " 0.01605807 0.01592333 0.01582654 0.01580388 0.01557622 0.01530306\n",
      " 0.01511832 0.01495747 0.01490777 0.01446902 0.01400628 0.01369831\n",
      " 0.01326841 0.01301335 0.01219634 0.01040592]\n"
     ]
    }
   ],
   "source": [
    "# PCA\n",
    "pca = PCA(n_components=46)\n",
    "pca_fit_trans_x_train = pca.fit_transform(X_train)\n",
    "\n",
    "pca_trans_x_test = pca.transform(X_test)\n",
    "\n",
    "explained_variance = pca.explained_variance_ratio_\n",
    "\n",
    "# Create a scree plot to visualize the explained variance\n",
    "plt.figure(figsize=(12, 6))\n",
    "plt.plot(range(1, len(explained_variance) + 1), # x-axis\n",
    "         explained_variance*100, # convert explained variance in percentage\n",
    "         marker='o', # add a marker at each value\n",
    "        )\n",
    "\n",
    "# Add title and axis label\n",
    "plt.title('Scree Plot of Explained Variance for Principal Components')\n",
    "plt.xlabel('Principal Component')\n",
    "plt.ylabel('Explained Variance (in %)')\n",
    "\n",
    "# Add label to x-axis\n",
    "plt.xticks(range(1, len(explained_variance) + 1),rotation=45)\n",
    "\n",
    "# Add grid in the background\n",
    "plt.grid(True)\n",
    "\n",
    "# Display the chart\n",
    "plt.show()\n",
    "\n",
    "print(pca.explained_variance_ratio_)"
   ]
  },
  {
   "cell_type": "code",
   "execution_count": 14,
   "id": "5232e1c4-541e-4969-b17d-afc8bc85d03d",
   "metadata": {},
   "outputs": [
    {
     "name": "stdout",
     "output_type": "stream",
     "text": [
      "Accuracy: 96.52%\n",
      "Accuracy : 0.9651999588773517\n",
      "[[18771    32]\n",
      " [  645     6]]\n",
      "Best set of hyperparameters:  {'learning_rate': 0.1, 'max_depth': 20, 'subsample': 0.7}\n",
      "Best score:  0.9651724767885291\n"
     ]
    }
   ],
   "source": [
    "# https://xgboost.readthedocs.io/en/latest/parameter.html\n",
    "# https://www.kaggle.com/code/wongguoxuan/eda-pca-xgboost-classifier-for-beginners\n",
    "# https://medium.com/@rithpansanga/optimizing-xgboost-a-guide-to-hyperparameter-tuning-77b6e48e289d\n",
    "\n",
    "from xgboost import XGBClassifier\n",
    "\n",
    "param_grid = {\n",
    "    'max_depth': [20, 50, 75],\n",
    "    'learning_rate': [0.1, 0.2],\n",
    "    'subsample': [1, 0.7]\n",
    "}\n",
    "\n",
    "\n",
    "model = XGBClassifier()  # Create an XGBoost classifier instance\n",
    "\n",
    "grid_search =  GridSearchCV(model, param_grid, cv=10, scoring='accuracy')\n",
    "\n",
    "# Train the GridSearchCV using the fit method\n",
    "grid_search.fit(pca_fit_trans_x_train, y_train)\n",
    "\n",
    "# Access the best model after training\n",
    "best_model = grid_search.best_estimator_\n",
    "\n",
    "# Make predictions using the best model\n",
    "y_pred = best_model.predict(pca_trans_x_test)\n",
    "if isinstance(y_train.ravel()[0], (int, np.integer)):  # Check if target variable is integer-like\n",
    "    predictions = [round(value) for value in y_pred]\n",
    "else:\n",
    "    predictions = y_pred\n",
    "    \n",
    "# evaluate predictions\n",
    "accuracy = accuracy_score(y_test, predictions)\n",
    "print(\"Accuracy: %.2f%%\" % (accuracy * 100.0))\n",
    "\n",
    "# print the accuracy and confusion matrix\n",
    "print('Accuracy : ' + str(accuracy_score(y_test, y_pred)))\n",
    "conf_m = confusion_matrix(y_test, y_pred)\n",
    "print(conf_m)\n",
    "\n",
    "# Print the best set of hyperparameters and the corresponding score\n",
    "print(\"Best set of hyperparameters: \", grid_search.best_params_)\n",
    "print(\"Best score: \", grid_search.best_score_)"
   ]
  }
 ],
 "metadata": {
  "kernelspec": {
   "display_name": "Python 3 (ipykernel)",
   "language": "python",
   "name": "python3"
  },
  "language_info": {
   "codemirror_mode": {
    "name": "ipython",
    "version": 3
   },
   "file_extension": ".py",
   "mimetype": "text/x-python",
   "name": "python",
   "nbconvert_exporter": "python",
   "pygments_lexer": "ipython3",
   "version": "3.11.7"
  }
 },
 "nbformat": 4,
 "nbformat_minor": 5
}
