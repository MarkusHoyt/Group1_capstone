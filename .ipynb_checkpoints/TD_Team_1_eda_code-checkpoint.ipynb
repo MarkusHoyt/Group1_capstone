{
 "cells": [
  {
   "cell_type": "code",
   "execution_count": 1,
   "id": "9fb22883-936d-459a-bc96-57516ec52dc0",
   "metadata": {},
   "outputs": [],
   "source": [
    "import pandas as pd"
   ]
  },
  {
   "cell_type": "code",
   "execution_count": 5,
   "id": "178f5075-f553-4b5f-85be-e7f1dc035dd0",
   "metadata": {},
   "outputs": [
    {
     "data": {
      "text/plain": [
       "Index(['SRVY_YR', 'URBRRL', 'REGION', 'AGEP_A', 'SEX_A', 'HISP_A',\n",
       "       'RACEALLP_A', 'MLTFAMFLG_A', 'PHSTAT_A', 'HYPEV_A', 'CHLEV_A',\n",
       "       'ANGEV_A', 'MIEV_A', 'STREV_A', 'ASEV_A', 'NUMCAN_A', 'HEIGHTTC_A',\n",
       "       'WEIGHTLBTC_A', 'BMICAT_A', 'DISAB3_A', 'NOTCOV_A', 'PAYWORRY_A',\n",
       "       'URGNT12MTC_A', 'EMERG12MTC_A', 'ANXLEVEL_A', 'DEPLEVEL_A',\n",
       "       'SMKCIGST_A', 'SMKECIGST_A', 'LEGMSTAT_A', 'PARSTAT_A', 'CITZNSTP_A',\n",
       "       'SCHCURENR_A', 'POVRATTC_A', 'FSNAP12M_A', 'FDSCAT4_A', 'HOUTENURE_A',\n",
       "       'CHDEV_A', 'DIA_STATUS'],\n",
       "      dtype='object')"
      ]
     },
     "execution_count": 5,
     "metadata": {},
     "output_type": "execute_result"
    }
   ],
   "source": [
    "adult = pd.read_csv('Clean_Data.csv')\n",
    "\n",
    "adult.columns"
   ]
  },
  {
   "cell_type": "code",
   "execution_count": null,
   "id": "1cf6cf95-286b-49d6-822e-22c394030154",
   "metadata": {},
   "outputs": [],
   "source": [
    "# Continuous chart\n",
    "# Corrleation Matrix\n",
    "# DIA_status, region -Tom\n",
    "# depression, anxiety, age, dia - Tom\n",
    "# Race, poverty ratio, Dia - Tom\n",
    "# food stamp, food security, race, dia - Tom\n",
    "\n",
    "# Discrete Chart\n",
    "# Chol, bmi, dia - Mark\n",
    "# heatlh insurance, physical health, dia - mark\n",
    "# High blood, low income, dia - mark\n",
    "# Disability status, general heatlh, dia - mark"
   ]
  }
 ],
 "metadata": {
  "kernelspec": {
   "display_name": "Python 3 (ipykernel)",
   "language": "python",
   "name": "python3"
  },
  "language_info": {
   "codemirror_mode": {
    "name": "ipython",
    "version": 3
   },
   "file_extension": ".py",
   "mimetype": "text/x-python",
   "name": "python",
   "nbconvert_exporter": "python",
   "pygments_lexer": "ipython3",
   "version": "3.11.7"
  }
 },
 "nbformat": 4,
 "nbformat_minor": 5
}
